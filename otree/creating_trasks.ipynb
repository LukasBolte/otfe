{
 "cells": [
  {
   "cell_type": "code",
   "execution_count": 3,
   "metadata": {},
   "outputs": [
    {
     "name": "stdout",
     "output_type": "stream",
     "text": [
      "File saved as letters_training.csv\n"
     ]
    }
   ],
   "source": [
    "import pandas as pd\n",
    "import random\n",
    "\n",
    "# Function to generate random combinations and save to CSV\n",
    "def generate_random_word_combinations(words, N, K, filename='random_words.csv'):\n",
    "    # Create a list of lists, where each inner list is a row with K random words\n",
    "    data = [[random.choice(words) for _ in range(K)] for _ in range(N)]\n",
    "    \n",
    "    # Create a DataFrame from the data\n",
    "    df = pd.DataFrame(data)\n",
    "    \n",
    "    # Save the DataFrame to a CSV file\n",
    "    df.to_csv(filename, index=False, header=False)\n",
    "    print(f\"File saved as {filename}\")\n",
    "\n",
    "greek_dict = {\n",
    "     \"alpha\": \"α\",\n",
    "        \"beta\": \"β\",\n",
    "        \"gamma\": \"γ\",\n",
    "        \"delta\": \"δ\",\n",
    "        \"epsilon\": \"ε\",\n",
    "        \"zeta\": \"ζ\",\n",
    "        \"eta\": \"η\",\n",
    "        \"theta\": \"θ\",\n",
    "        \"iota\": \"ι\",\n",
    "        \"kappa\": \"κ\",\n",
    "        \"lambda\": \"λ\",\n",
    "        \"mu\": \"μ\",\n",
    "        \"nu\": \"ν\",\n",
    "        \"xi\": \"ξ\",\n",
    "        \"omicron\": \"ο\",\n",
    "        \"pi\": \"π\",\n",
    "        \"rho\": \"ρ\",\n",
    "        \"sigma\": \"σ\",\n",
    "        \"tau\": \"τ\",\n",
    "        \"upsilon\": \"υ\",\n",
    "        \"phi\": \"φ\",\n",
    "        \"chi\": \"χ\",\n",
    "        \"psi\": \"ψ\",\n",
    "        \"omega\": \"ω\",\n",
    "        \"period\": \".\",\n",
    "        \"comma\": \",\"}\n",
    "    \n",
    "words = list(greek_dict.keys())\n",
    "\n",
    "N = 500  # Number of rows\n",
    "K = 10  # Number of columns\n",
    "\n",
    "generate_random_word_combinations(words, N, K, filename='letters_training.csv')"
   ]
  }
 ],
 "metadata": {
  "kernelspec": {
   "display_name": "jupyter-venv",
   "language": "python",
   "name": "python3"
  },
  "language_info": {
   "codemirror_mode": {
    "name": "ipython",
    "version": 3
   },
   "file_extension": ".py",
   "mimetype": "text/x-python",
   "name": "python",
   "nbconvert_exporter": "python",
   "pygments_lexer": "ipython3",
   "version": "3.11.2"
  }
 },
 "nbformat": 4,
 "nbformat_minor": 2
}
